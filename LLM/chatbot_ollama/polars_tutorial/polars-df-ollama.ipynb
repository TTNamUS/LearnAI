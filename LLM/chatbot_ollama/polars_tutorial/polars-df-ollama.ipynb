{
 "cells": [
  {
   "cell_type": "code",
   "execution_count": 1,
   "metadata": {},
   "outputs": [
    {
     "name": "stdout",
     "output_type": "stream",
     "text": [
      "Collecting polars\n",
      "  Downloading polars-1.2.1-cp38-abi3-manylinux_2_17_x86_64.manylinux2014_x86_64.whl.metadata (14 kB)\n",
      "Downloading polars-1.2.1-cp38-abi3-manylinux_2_17_x86_64.manylinux2014_x86_64.whl (30.9 MB)\n",
      "\u001b[2K   \u001b[90m━━━━━━━━━━━━━━━━━━━━━━━━━━━━━━━━━━━━━━━━\u001b[0m \u001b[32m30.9/30.9 MB\u001b[0m \u001b[31m38.8 MB/s\u001b[0m eta \u001b[36m0:00:00\u001b[0m:00:01\u001b[0m00:01\u001b[0m\n",
      "\u001b[?25hInstalling collected packages: polars\n",
      "Successfully installed polars-1.2.1\n"
     ]
    }
   ],
   "source": [
    "!pip install polars"
   ]
  },
  {
   "cell_type": "code",
   "execution_count": 2,
   "metadata": {},
   "outputs": [],
   "source": [
    "import polars as pl\n",
    "from datetime import datetime"
   ]
  },
  {
   "cell_type": "code",
   "execution_count": 3,
   "metadata": {},
   "outputs": [
    {
     "name": "stdout",
     "output_type": "stream",
     "text": [
      "shape: (5, 3)\n",
      "┌─────────────────────┬─────────┬──────────┐\n",
      "│ date                ┆ revenue ┆ expenses │\n",
      "│ ---                 ┆ ---     ┆ ---      │\n",
      "│ datetime[μs]        ┆ i64     ┆ i64      │\n",
      "╞═════════════════════╪═════════╪══════════╡\n",
      "│ 2024-07-01 00:00:00 ┆ 100     ┆ 80       │\n",
      "│ 2024-07-02 00:00:00 ┆ 150     ┆ 120      │\n",
      "│ 2024-07-03 00:00:00 ┆ 200     ┆ 160      │\n",
      "│ 2024-07-04 00:00:00 ┆ 250     ┆ 200      │\n",
      "│ 2024-07-05 00:00:00 ┆ 300     ┆ 240      │\n",
      "└─────────────────────┴─────────┴──────────┘\n"
     ]
    }
   ],
   "source": [
    "data = {\n",
    "    \"date\": [datetime(2024, 7, 1), datetime(2024, 7, 2), datetime(2024, 7, 3), datetime(2024, 7, 4), datetime(2024, 7, 5)],\n",
    "    \"revenue\": [100, 150, 200, 250, 300],\n",
    "    \"expenses\": [80, 120, 160, 200, 240]\n",
    "}\n",
    "\n",
    "df = pl.DataFrame(data)\n",
    "print(df)"
   ]
  },
  {
   "cell_type": "code",
   "execution_count": 4,
   "metadata": {},
   "outputs": [
    {
     "name": "stdout",
     "output_type": "stream",
     "text": [
      "shape: (3, 3)\n",
      "┌─────────────────────┬─────────┬──────────┐\n",
      "│ date                ┆ revenue ┆ expenses │\n",
      "│ ---                 ┆ ---     ┆ ---      │\n",
      "│ datetime[μs]        ┆ i64     ┆ i64      │\n",
      "╞═════════════════════╪═════════╪══════════╡\n",
      "│ 2024-07-02 00:00:00 ┆ 150     ┆ 120      │\n",
      "│ 2024-07-03 00:00:00 ┆ 200     ┆ 160      │\n",
      "│ 2024-07-04 00:00:00 ┆ 250     ┆ 200      │\n",
      "└─────────────────────┴─────────┴──────────┘\n"
     ]
    }
   ],
   "source": [
    "# Filter Data\n",
    "filtered_df = df.filter(\n",
    "    pl.col(\"date\").is_between(datetime(2024, 7, 2), datetime(2024, 7, 4))\n",
    ")\n",
    "print(filtered_df)"
   ]
  },
  {
   "cell_type": "code",
   "execution_count": 5,
   "metadata": {},
   "outputs": [],
   "source": [
    "df_pandas = filtered_df.to_pandas()"
   ]
  },
  {
   "cell_type": "code",
   "execution_count": 6,
   "metadata": {},
   "outputs": [],
   "source": [
    "from openai import OpenAI\n",
    "\n",
    "client = OpenAI(\n",
    "    base_url='http://localhost:11434/v1/',\n",
    "    api_key='ollama',\n",
    ")"
   ]
  },
  {
   "cell_type": "code",
   "execution_count": 7,
   "metadata": {},
   "outputs": [],
   "source": [
    "def build_prompt(df):\n",
    "    prompt = \"You are a financial data analyst. Analyze the financial data:\\n\"\n",
    "    for row in df.itertuples(index=True):\n",
    "        prompt += f\"Date: {row.date.strftime('%Y-%m-%d')}, Revenue: ${row.revenue}, Expenses: ${row.expenses}\\n\"\n",
    "    prompt += \"Predict the revenue and expenses for the next date.\"\n",
    "    return prompt"
   ]
  },
  {
   "cell_type": "code",
   "execution_count": 8,
   "metadata": {},
   "outputs": [],
   "source": [
    "def llm(prompt):\n",
    "    response = client.chat.completions.create(\n",
    "        model='phi3',\n",
    "        messages=[{\"role\": \"user\", \"content\": prompt}]\n",
    "    )\n",
    "    return response.choices[0].message.content"
   ]
  },
  {
   "cell_type": "code",
   "execution_count": 9,
   "metadata": {},
   "outputs": [
    {
     "name": "stdout",
     "output_type": "stream",
     "text": [
      " As a financial data analyst examining this limited set of sequential daily data from July 2nd to July 4th, I see that there is an increase in both revenues and expenses each day by varying amounts: $50 additional on Day 3 and then another $50 incremental revenue with a larger reduction ($40) for the next subsequent day's expenses. However, predicting exact future financial data without more sophisticated time series forecasting methods would be highly uncertain; nonetheless, I can provide an informed guess based on this simple pattern:\n",
      "\n",
      "Date: 2024-07-05, Revenue Prediction: $300 (continuing the trend of adding $50 each day)  \n",
      "Expenses Prediction: This is more complex due to varying increments; if we continue with a decrement as observed between July 3rd and July 4th ($40), then it would be Revenue - $40, leading us to predict Expenses of $240.\n"
     ]
    }
   ],
   "source": [
    "prompt = build_prompt(df_pandas)\n",
    "answer = llm(prompt)\n",
    "print(answer)"
   ]
  },
  {
   "cell_type": "markdown",
   "metadata": {},
   "source": []
  }
 ],
 "metadata": {
  "kernelspec": {
   "display_name": "Python 3 (ipykernel)",
   "language": "python",
   "name": "python3"
  },
  "language_info": {
   "codemirror_mode": {
    "name": "ipython",
    "version": 3
   },
   "file_extension": ".py",
   "mimetype": "text/x-python",
   "name": "python",
   "nbconvert_exporter": "python",
   "pygments_lexer": "ipython3",
   "version": "3.10.13"
  }
 },
 "nbformat": 4,
 "nbformat_minor": 2
}
