{
 "cells": [
  {
   "cell_type": "markdown",
   "metadata": {},
   "source": [
    "# VAE-based Image Colorization"
   ]
  },
  {
   "cell_type": "markdown",
   "metadata": {},
   "source": [
    "In this problem, we use Lab channel instead of RGB channel."
   ]
  },
  {
   "cell_type": "markdown",
   "metadata": {},
   "source": [
    "We use VAE-based Image Colorization model base on [Learning Diverse Image Colorization](https://arxiv.org/pdf/1612.01958.pdf) with LFW dataset ([Labeled Faces in the Wild Home](https://vis-www.cs.umass.edu/lfw/))\n",
    " \n"
   ]
  },
  {
   "cell_type": "markdown",
   "metadata": {},
   "source": [
    "## Data Preparation"
   ]
  },
  {
   "cell_type": "code",
   "execution_count": null,
   "metadata": {},
   "outputs": [],
   "source": [
    "# Download dataset\n",
    "! gdown 187 x5YSXYibG4QwC5m_Hx8cNzPGVTXv6G\n",
    "! unzip -q data .zip\n",
    "! rm data .zip\n"
   ]
  },
  {
   "cell_type": "code",
   "execution_count": null,
   "metadata": {},
   "outputs": [],
   "source": [
    "# Import libraries\n",
    "import os\n",
    "import numpy as np\n",
    "from tqdm import tqdm\n",
    "import torch\n",
    "import torch .nn as nn\n",
    "import torch .nn. functional as F\n",
    "import torch . optim as optim\n",
    "from torch . utils . data import DataLoader\n",
    "import cv2\n",
    "import numpy as np\n",
    "from torch . utils . data import Dataset"
   ]
  },
  {
   "cell_type": "code",
   "execution_count": null,
   "metadata": {},
   "outputs": [],
   "source": [
    "class ColorDataset(Dataset) :\n",
    "    def __init__ (self, out_directory, listdir = None,\n",
    "                    featslistdir = None, shape = (64, 64),\n",
    "                    outshape = (256, 256), split = \"train\"):\n",
    "\n",
    "        # Save paths to a list\n",
    "        self.img_fns = []\n",
    "        self.feats_fns = []\n",
    "\n"
   ]
  },
  {
   "cell_type": "code",
   "execution_count": null,
   "metadata": {},
   "outputs": [],
   "source": [
    "# Declare hyperparameters\n",
    "args = {\n",
    "    \"gpu\": 1,\n",
    "    \"epochs\": 2 ,\n",
    "    \"batchsize\": 32 ,\n",
    "    \"hiddensize\": 64 ,\n",
    "    \"nthreads\": 2 ,\n",
    "    \"epochs_mdn\": 2 ,\n",
    "    \"nmix\": 8 ,\n",
    "    \"logstep\": 100 ,\n",
    "    \"dataset_key\": \"lfw\"\n",
    "}\n",
    "\n",
    "def get_dirpaths(args):\n",
    "    if args [\"dataset_key\"] == \"lfw\":\n",
    "        out_dir = \"data/output/lfw\"\n",
    "        listdir = \"data/imglist/lfw\"\n",
    "        featslistdir = \"data/featslist/lfw\"\n",
    "    else:\n",
    "        raise NameError(\"[ ERROR ] Incorrect key: %s\" % (args.dataset_key))\n",
    "    return out_dir, listdir, featslistdir"
   ]
  },
  {
   "cell_type": "markdown",
   "metadata": {},
   "source": [
    "## Models"
   ]
  },
  {
   "cell_type": "markdown",
   "metadata": {},
   "source": [
    "### VAE model (Conditional VAE)"
   ]
  },
  {
   "cell_type": "code",
   "execution_count": null,
   "metadata": {},
   "outputs": [],
   "source": []
  },
  {
   "cell_type": "code",
   "execution_count": null,
   "metadata": {},
   "outputs": [],
   "source": []
  }
 ],
 "metadata": {
  "kernelspec": {
   "display_name": "Python 3",
   "language": "python",
   "name": "python3"
  },
  "language_info": {
   "name": "python",
   "version": "3.10.5"
  }
 },
 "nbformat": 4,
 "nbformat_minor": 2
}
